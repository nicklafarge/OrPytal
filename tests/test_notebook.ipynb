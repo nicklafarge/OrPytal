{
 "cells": [
  {
   "cell_type": "code",
   "execution_count": 1,
   "metadata": {},
   "outputs": [],
   "source": [
    "import sys\n",
    "sys.path.append(\"../\")"
   ]
  },
  {
   "cell_type": "code",
   "execution_count": 2,
   "metadata": {},
   "outputs": [],
   "source": [
    "import orpytal as op"
   ]
  },
  {
   "cell_type": "code",
   "execution_count": 12,
   "metadata": {},
   "outputs": [],
   "source": [
    "orbit = op.Orbit(op.planet_constants.earth, e=0.2, p=25000, raan=10*op.units.deg, i=27*op.units.deg, arg_periapsis=18*op.units.deg)"
   ]
  },
  {
   "cell_type": "code",
   "execution_count": 13,
   "metadata": {},
   "outputs": [
    {
     "name": "stderr",
     "output_type": "stream",
     "text": [
      "/home/nlafarge/.local/lib/python3.6/site-packages/pint/quantity.py:1377: UnitStrippedWarning:\n",
      "\n",
      "The unit of the quantity is stripped.\n",
      "\n"
     ]
    }
   ],
   "source": [
    "st = op.KeplarianState(orbit, ta=35*op.units.deg)"
   ]
  },
  {
   "cell_type": "code",
   "execution_count": 14,
   "metadata": {},
   "outputs": [
    {
     "name": "stdout",
     "output_type": "stream",
     "text": [
      "-------------------------------------------------------------------------------------------------------\n",
      "-------------------------------------------------------------------------------------------------------\n",
      "                                               Orbit Data                                              \n",
      "-------------------------------------------------------------------------------------------------------\n",
      "                                            Meta Information                                           \n",
      "  Orbit Name: .................\n",
      "Central Body: Earth\n",
      "    Circular: False\n",
      "  Equitorial: False\n",
      "-------------------------------------------------------------------------------------------------------\n",
      "                                            Orbit Parameters                                           \n",
      "\n",
      "     Eccentricity:  2.0000000000e-01         nd |           Inclination:  4.7123889804e-01        rad |     \n",
      "   Semimajor Axis:  2.6041666667e+04         km |        Ascending Node:  1.7453292520e-01        rad |     \n",
      "   Semiminor Axis:  2.4038461538e+04         km |      Arg of Periapsis:  3.1415926536e-01        rad |     \n",
      "   Rad. Periapsis:  2.0833333333e+04         km |         Rad. Apoapsis:  3.1250000000e+04         km |     \n",
      " Semilatus Rectum:  2.5000000000e+04         km |      Angular Momentum:  9.9824901131e+04     km^2/s |     \n",
      "      Mean Motion:  1.5023313187e-04      rad/s |        Orbital Period:  4.1822900376e+04          s |     \n",
      "  Specific Energy: -7.6531283604e+00   km^2/s^2 |     \n",
      "-------------------------------------------------------------------------------------------------------\n",
      "-------------------------------------------------------------------------------------------------------\n"
     ]
    }
   ],
   "source": [
    "print(orbit)"
   ]
  },
  {
   "cell_type": "code",
   "execution_count": 15,
   "metadata": {},
   "outputs": [
    {
     "name": "stdout",
     "output_type": "stream",
     "text": [
      "-------------------------------------------------------------------------------------------------------\n",
      "-------------------------------------------------------------------------------------------------------\n",
      "                                          Keplarian State Data                                         \n",
      "-------------------------------------------------------------------------------------------------------\n",
      "                                            Meta Information                                           \n",
      "  Orbit Name: .................\n",
      "  State Name: .................\n",
      "Central Body: Earth\n",
      "    Circular: False\n",
      "  Equitorial: False\n",
      "   Ascending: True\n",
      "-------------------------------------------------------------------------------------------------------\n",
      "                                            State Parameters                                           \n",
      "\n",
      "    Pos. Mag. |r|:  2.1480792914e+04         km |          True Anomaly:  6.1086523820e-01        rad |     \n",
      "    Vel. Mag. |v|:  4.6696903429e+00       km/s |     Eccentric Anomaly:  5.0393804937e-01        rad |     \n",
      "Flight Path Angle:  9.8249653302e-02        rad |          Mean Anomaly:  4.0736249425e-01        rad |     \n",
      " Time Since Peri.:  2.7115356592e+03          s |      Arg. of Latitude:  9.2502450356e-01        rad |     \n",
      "-------------------------------------------------------------------------------------------------------\n",
      "-------------------------------------------------------------------------------------------------------\n",
      "                                            Orbit Parameters                                           \n",
      "\n",
      "     Eccentricity:  2.0000000000e-01         nd |           Inclination:  4.7123889804e-01        rad |     \n",
      "   Semimajor Axis:  2.6041666667e+04         km |        Ascending Node:  1.7453292520e-01        rad |     \n",
      "   Semiminor Axis:  2.4038461538e+04         km |      Arg of Periapsis:  3.1415926536e-01        rad |     \n",
      "   Rad. Periapsis:  2.0833333333e+04         km |         Rad. Apoapsis:  3.1250000000e+04         km |     \n",
      " Semilatus Rectum:  2.5000000000e+04         km |      Angular Momentum:  9.9824901131e+04     km^2/s |     \n",
      "      Mean Motion:  1.5023313187e-04      rad/s |        Orbital Period:  4.1822900376e+04          s |     \n",
      "  Specific Energy: -7.6531283604e+00   km^2/s^2 |     \n",
      "-------------------------------------------------------------------------------------------------------\n"
     ]
    }
   ],
   "source": [
    "print(st)"
   ]
  },
  {
   "cell_type": "code",
   "execution_count": 16,
   "metadata": {},
   "outputs": [
    {
     "name": "stderr",
     "output_type": "stream",
     "text": [
      "/home/nlafarge/.local/lib/python3.6/site-packages/pint/quantity.py:1377: UnitStrippedWarning:\n",
      "\n",
      "The unit of the quantity is stripped.\n",
      "\n"
     ]
    }
   ],
   "source": [
    "op.plotting.plot_orbit(orbit)"
   ]
  }
 ],
 "metadata": {
  "kernelspec": {
   "display_name": "Python 3",
   "language": "python",
   "name": "python3"
  },
  "language_info": {
   "codemirror_mode": {
    "name": "ipython",
    "version": 3
   },
   "file_extension": ".py",
   "mimetype": "text/x-python",
   "name": "python",
   "nbconvert_exporter": "python",
   "pygments_lexer": "ipython3",
   "version": "3.6.7"
  }
 },
 "nbformat": 4,
 "nbformat_minor": 2
}
