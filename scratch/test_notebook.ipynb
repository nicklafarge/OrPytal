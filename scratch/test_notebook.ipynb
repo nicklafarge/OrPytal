{
 "cells": [
  {
   "cell_type": "code",
   "execution_count": 1,
   "metadata": {},
   "outputs": [],
   "source": [
    "import sys\n",
    "sys.path.append(\"../\")"
   ]
  },
  {
   "cell_type": "code",
   "execution_count": 2,
   "metadata": {},
   "outputs": [],
   "source": [
    "import orpytal as op"
   ]
  },
  {
   "cell_type": "code",
   "execution_count": 3,
   "metadata": {},
   "outputs": [],
   "source": [
    "orbit = op.Orbit(op.planet_constants.earth, e=0.2, p=25000, raan=10*op.units.deg, i=27*op.units.deg, arg_periapsis=18*op.units.deg)"
   ]
  },
  {
   "cell_type": "code",
   "execution_count": 4,
   "metadata": {},
   "outputs": [],
   "source": [
    "st = op.KeplarianState(orbit, ta=35*op.units.deg)"
   ]
  },
  {
   "cell_type": "code",
   "execution_count": 5,
   "metadata": {},
   "outputs": [
    {
     "name": "stdout",
     "output_type": "stream",
     "text": [
      "-------------------------------------------------------------------------------------------------------\n",
      "-------------------------------------------------------------------------------------------------------\n",
      "                                               Orbit Data                                              \n",
      "-------------------------------------------------------------------------------------------------------\n",
      "                                            Meta Information                                           \n",
      "  Orbit Name: .................\n",
      "Central Body: Earth\n",
      "        Type: Elliptic\n",
      "  Equitorial: False\n",
      "-------------------------------------------------------------------------------------------------------\n",
      "                                            Orbit Parameters                                           \n",
      "\n",
      "     Eccentricity:  2.0000000000e-01         nd |           Inclination:  4.7123889804e-01        rad |     \n",
      "   Semimajor Axis:  2.6041666667e+04         km |        Ascending Node:  1.7453292520e-01        rad |     \n",
      "   Semiminor Axis:  2.5515518154e+04         km |      Arg of Periapsis:  3.1415926536e-01        rad |     \n",
      " Semilatus Rectum:  2.5000000000e+04         km |      Angular Momentum:  9.9824901131e+04     km^2/s |     \n",
      "  Specific Energy: -7.6531283604e+00   km^2/s^2 |           Mean Motion:  1.5023313187e-04      rad/s |     \n",
      "   Rad. Periapsis:  2.0833333333e+04         km |     \n",
      "    Rad. Apoapsis:  3.1250000000e+04         km |        Orbital Period:  4.1822900376e+04          s |     \n",
      "-------------------------------------------------------------------------------------------------------\n",
      "-------------------------------------------------------------------------------------------------------\n"
     ]
    }
   ],
   "source": [
    "print(orbit)"
   ]
  },
  {
   "cell_type": "code",
   "execution_count": 6,
   "metadata": {},
   "outputs": [
    {
     "name": "stdout",
     "output_type": "stream",
     "text": [
      "-------------------------------------------------------------------------------------------------------\n",
      "-------------------------------------------------------------------------------------------------------\n",
      "                                          Keplarian State Data                                         \n",
      "-------------------------------------------------------------------------------------------------------\n",
      "                                            Meta Information                                           \n",
      "  Orbit Name: .................\n",
      "  State Name: .................\n",
      "Central Body: Earth\n",
      "        Type: Elliptic\n",
      "  Equitorial: False\n",
      "   Ascending: True\n",
      "-------------------------------------------------------------------------------------------------------\n",
      "                                            State Parameters                                           \n",
      "\n",
      "    Pos. Mag. |r|:  2.1480792914e+04         km |          True Anomaly:  6.1086523820e-01        rad |     \n",
      "    Vel. Mag. |v|:  4.6696903429e+00       km/s |     Eccentric Anomaly:  5.0393804937e-01        rad |     \n",
      "Flight Path Angle:  9.8249653302e-02        rad |          Mean Anomaly:  4.0736249425e-01        rad |     \n",
      "Flight Path Angle:  9.8249653302e-02        rad |       Hyperb. Anomaly: ................. .......... |     \n",
      " Time Since Peri.:  2.7115356592e+03          s |      Arg. of Latitude:  9.2502450356e-01        rad |     \n",
      "-------------------------------------------------------------------------------------------------------\n",
      "                                             Inertial Frame                                            \n",
      "\n",
      "         Position: ................. .......... |              Velocity: ................. .......... |     \n",
      "                x:  1.0076766466e+04         km |                     x: -3.8728489340e+00       km/s |     \n",
      "                y:  1.7298114982e+04         km |                     y:  2.1784420717e+00       km/s |     \n",
      "                z:  7.7883541184e+03         km |                     z:  1.4357712819e+00       km/s |     \n",
      "-------------------------------------------------------------------------------------------------------\n",
      "-------------------------------------------------------------------------------------------------------\n",
      "                                            Orbit Parameters                                           \n",
      "\n",
      "     Eccentricity:  2.0000000000e-01         nd |           Inclination:  4.7123889804e-01        rad |     \n",
      "   Semimajor Axis:  2.6041666667e+04         km |        Ascending Node:  1.7453292520e-01        rad |     \n",
      "   Semiminor Axis:  2.5515518154e+04         km |      Arg of Periapsis:  3.1415926536e-01        rad |     \n",
      " Semilatus Rectum:  2.5000000000e+04         km |      Angular Momentum:  9.9824901131e+04     km^2/s |     \n",
      "  Specific Energy: -7.6531283604e+00   km^2/s^2 |           Mean Motion:  1.5023313187e-04      rad/s |     \n",
      "   Rad. Periapsis:  2.0833333333e+04         km |     \n",
      "    Rad. Apoapsis:  3.1250000000e+04         km |        Orbital Period:  4.1822900376e+04          s |     \n",
      "-------------------------------------------------------------------------------------------------------\n"
     ]
    }
   ],
   "source": [
    "print(st)"
   ]
  },
  {
   "cell_type": "code",
   "execution_count": 8,
   "metadata": {},
   "outputs": [],
   "source": [
    "op.plotting.plot_orbit(orbit)"
   ]
  },
  {
   "cell_type": "code",
   "execution_count": null,
   "metadata": {},
   "outputs": [],
   "source": []
  }
 ],
 "metadata": {
  "kernelspec": {
   "display_name": "Python 3",
   "language": "python",
   "name": "python3"
  },
  "language_info": {
   "codemirror_mode": {
    "name": "ipython",
    "version": 3
   },
   "file_extension": ".py",
   "mimetype": "text/x-python",
   "name": "python",
   "nbconvert_exporter": "python",
   "pygments_lexer": "ipython3",
   "version": "3.7.3"
  }
 },
 "nbformat": 4,
 "nbformat_minor": 1
}
